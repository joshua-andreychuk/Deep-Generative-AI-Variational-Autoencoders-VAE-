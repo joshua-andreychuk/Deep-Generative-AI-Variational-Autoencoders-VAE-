{
 "cells": [
  {
   "cell_type": "code",
   "execution_count": 1,
   "id": "518d3508-759c-4197-872d-35e54026832a",
   "metadata": {},
   "outputs": [
    {
     "name": "stdout",
     "output_type": "stream",
     "text": [
      "Using device:  cpu\n",
      "Model name: model=vae_z=10_run=0000\n",
      "Loaded from checkpoints\\model=vae_z=10_run=0000\\model-20000.pt\n",
      "Figure(640x480)\n",
      "********************************************************************************\n",
      "LOG-LIKELIHOOD LOWER BOUNDS ON TEST SUBSET\n",
      "********************************************************************************\n",
      "NELBO: 101.54109191894531. KL: 19.47377586364746. Rec: 82.06732177734375\n",
      "Negative IWAE-1: 101.53288269042969\n",
      "Negative IWAE-10: 98.83732604980469\n",
      "Negative IWAE-100: 97.89742279052734\n",
      "Negative IWAE-1000: 97.44275665283203\n"
     ]
    }
   ],
   "source": [
    "!python main.py --model vae --iwae"
   ]
  },
  {
   "cell_type": "code",
   "execution_count": 2,
   "id": "41179c54-ec16-44a4-8e31-0c5a9883386d",
   "metadata": {},
   "outputs": [
    {
     "name": "stdout",
     "output_type": "stream",
     "text": [
      "========== START GRADING\n",
      "----- START 3c-0-basic: NIWAE-1 for VAE\n",
      "----- END 3c-0-basic [took 0:00:00.006510 (max allowed 5 seconds), 1.5/1.5 points]\n",
      "\n",
      "Note that the hidden test cases do not check for correctness.\n",
      "They are provided for you to verify that the functions do not crash and run within the time limit.\n",
      "Points for these parts not assigned by the grader unless the solution is present (indicated by \"???\").\n",
      "========== END GRADING [1.5/1.5 points + 0/0 extra credit]\n",
      "========== START GRADING\n",
      "----- START 3c-1-basic: NIWAE-10 for VAE\n",
      "----- END 3c-1-basic [took 0:00:00.006417 (max allowed 5 seconds), 1.5/1.5 points]\n",
      "\n",
      "Note that the hidden test cases do not check for correctness.\n",
      "They are provided for you to verify that the functions do not crash and run within the time limit.\n",
      "Points for these parts not assigned by the grader unless the solution is present (indicated by \"???\").\n",
      "========== END GRADING [1.5/1.5 points + 0/0 extra credit]\n",
      "========== START GRADING\n",
      "----- START 3c-2-basic: NIWAE-100 for VAE\n",
      "----- END 3c-2-basic [took 0:00:00.006541 (max allowed 5 seconds), 1.5/1.5 points]\n",
      "\n",
      "Note that the hidden test cases do not check for correctness.\n",
      "They are provided for you to verify that the functions do not crash and run within the time limit.\n",
      "Points for these parts not assigned by the grader unless the solution is present (indicated by \"???\").\n",
      "========== END GRADING [1.5/1.5 points + 0/0 extra credit]\n",
      "========== START GRADING\n",
      "----- START 3c-3-basic: NIWAE-1000 for VAE\n",
      "----- END 3c-3-basic [took 0:00:00.006345 (max allowed 5 seconds), 1.5/1.5 points]\n",
      "\n",
      "Note that the hidden test cases do not check for correctness.\n",
      "They are provided for you to verify that the functions do not crash and run within the time limit.\n",
      "Points for these parts not assigned by the grader unless the solution is present (indicated by \"???\").\n",
      "========== END GRADING [1.5/1.5 points + 0/0 extra credit]\n"
     ]
    }
   ],
   "source": [
    " !python grader.py 3c-0-basic\n",
    " !python grader.py 3c-1-basic\n",
    " !python grader.py 3c-2-basic\n",
    " !python grader.py 3c-3-basic"
   ]
  },
  {
   "cell_type": "code",
   "execution_count": null,
   "id": "cbbe2913-be51-4628-8683-867e3c594184",
   "metadata": {},
   "outputs": [],
   "source": []
  },
  {
   "cell_type": "code",
   "execution_count": null,
   "id": "4b34e366-14d0-48e7-a1f3-1aa9b9262910",
   "metadata": {},
   "outputs": [],
   "source": []
  },
  {
   "cell_type": "code",
   "execution_count": null,
   "id": "244c398e-0a13-47fd-98f8-cc32f0b64ee4",
   "metadata": {},
   "outputs": [],
   "source": []
  },
  {
   "cell_type": "code",
   "execution_count": 1,
   "id": "693bb82d-1f68-4e12-b509-4f6ab0caff18",
   "metadata": {},
   "outputs": [
    {
     "name": "stdout",
     "output_type": "stream",
     "text": [
      "Using device:  cpu\n",
      "Model name: model=gmvae_z=10_k=500_run=0000\n",
      "Loaded from checkpoints\\model=gmvae_z=10_k=500_run=0000\\model-20000.pt\n",
      "Figure(640x480)\n",
      "********************************************************************************\n",
      "LOG-LIKELIHOOD LOWER BOUNDS ON TEST SUBSET\n",
      "********************************************************************************\n",
      "NELBO: 99.01411437988281. KL: 17.90593910217285. Rec: 81.1081771850586\n",
      "Negative IWAE-1: 98.99894714355469\n",
      "Negative IWAE-10: 96.74658966064453\n",
      "Negative IWAE-100: 95.84750366210938\n",
      "Negative IWAE-1000: 95.43331909179688\n"
     ]
    }
   ],
   "source": [
    "!python main.py --model gmvae --iwae"
   ]
  },
  {
   "cell_type": "code",
   "execution_count": null,
   "id": "db3fb233-8f25-4027-bad9-d3c8cfa72ac0",
   "metadata": {},
   "outputs": [],
   "source": []
  },
  {
   "cell_type": "code",
   "execution_count": null,
   "id": "715a0405-8d52-4d61-9b63-07c3b3927289",
   "metadata": {},
   "outputs": [],
   "source": []
  },
  {
   "cell_type": "code",
   "execution_count": 2,
   "id": "624622c0-dfea-4f76-9fd8-bd6bb54d4de4",
   "metadata": {},
   "outputs": [
    {
     "name": "stdout",
     "output_type": "stream",
     "text": [
      "========== START GRADING\n",
      "----- START 3d-0-basic: NIWAE-1 for GMVAE\n",
      "----- END 3d-0-basic [took 0:00:00.006364 (max allowed 5 seconds), 1.5/1.5 points]\n",
      "\n",
      "Note that the hidden test cases do not check for correctness.\n",
      "They are provided for you to verify that the functions do not crash and run within the time limit.\n",
      "Points for these parts not assigned by the grader unless the solution is present (indicated by \"???\").\n",
      "========== END GRADING [1.5/1.5 points + 0/0 extra credit]\n",
      "========== START GRADING\n",
      "----- START 3d-1-basic: NIWAE-10 for GMVAE\n",
      "----- END 3d-1-basic [took 0:00:00.006415 (max allowed 5 seconds), 1.5/1.5 points]\n",
      "\n",
      "Note that the hidden test cases do not check for correctness.\n",
      "They are provided for you to verify that the functions do not crash and run within the time limit.\n",
      "Points for these parts not assigned by the grader unless the solution is present (indicated by \"???\").\n",
      "========== END GRADING [1.5/1.5 points + 0/0 extra credit]\n",
      "========== START GRADING\n",
      "----- START 3d-2-basic: NIWAE-100 for GMVAE\n",
      "----- END 3d-2-basic [took 0:00:00.008079 (max allowed 5 seconds), 1.5/1.5 points]\n",
      "\n",
      "Note that the hidden test cases do not check for correctness.\n",
      "They are provided for you to verify that the functions do not crash and run within the time limit.\n",
      "Points for these parts not assigned by the grader unless the solution is present (indicated by \"???\").\n",
      "========== END GRADING [1.5/1.5 points + 0/0 extra credit]\n",
      "========== START GRADING\n",
      "----- START 3d-3-basic: NIWAE-1000 for GMVAE\n",
      "----- END 3d-3-basic [took 0:00:00.006909 (max allowed 5 seconds), 1.5/1.5 points]\n",
      "\n",
      "Note that the hidden test cases do not check for correctness.\n",
      "They are provided for you to verify that the functions do not crash and run within the time limit.\n",
      "Points for these parts not assigned by the grader unless the solution is present (indicated by \"???\").\n",
      "========== END GRADING [1.5/1.5 points + 0/0 extra credit]\n"
     ]
    }
   ],
   "source": [
    "!python grader.py 3d-0-basic\n",
    "!python grader.py 3d-1-basic\n",
    "!python grader.py 3d-2-basic\n",
    "!python grader.py 3d-3-basic"
   ]
  },
  {
   "cell_type": "code",
   "execution_count": null,
   "id": "faee73fa-4850-43f1-bc17-e2642b1b9b30",
   "metadata": {},
   "outputs": [],
   "source": []
  }
 ],
 "metadata": {
  "kernelspec": {
   "display_name": "Python 3 (ipykernel)",
   "language": "python",
   "name": "python3"
  },
  "language_info": {
   "codemirror_mode": {
    "name": "ipython",
    "version": 3
   },
   "file_extension": ".py",
   "mimetype": "text/x-python",
   "name": "python",
   "nbconvert_exporter": "python",
   "pygments_lexer": "ipython3",
   "version": "3.12.9"
  }
 },
 "nbformat": 4,
 "nbformat_minor": 5
}
